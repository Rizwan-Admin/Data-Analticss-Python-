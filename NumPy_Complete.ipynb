{
 "cells": [
  {
   "cell_type": "code",
   "execution_count": 2,
   "id": "dab8410d-65e9-426f-988c-390224cbfc7a",
   "metadata": {},
   "outputs": [
    {
     "name": "stdout",
     "output_type": "stream",
     "text": [
      "[1, 2, 3, 4, 5, 6]\n",
      "[2 3 4 5 6 7]\n"
     ]
    }
   ],
   "source": [
    "list = [1,2,3,4,5,6]\n",
    "print(list)\n",
    "\n",
    "\n",
    "import numpy as np\n",
    "array = np.array([2,3,4,5,6,7])\n",
    "print(array)"
   ]
  },
  {
   "cell_type": "code",
   "execution_count": 3,
   "id": "1c37aa4e-523a-476b-aed0-d0cc6591a750",
   "metadata": {},
   "outputs": [
    {
     "name": "stdout",
     "output_type": "stream",
     "text": [
      "[10 33 44 55 66 77]\n"
     ]
    }
   ],
   "source": [
    "# 1d arrat  --- one dimensional array\n",
    "\n",
    "# import numpy as np\n",
    "\n",
    "ar_id = np.array([10,33,44,55,66,77])\n",
    "\n",
    "print(ar_id)"
   ]
  },
  {
   "cell_type": "code",
   "execution_count": 5,
   "id": "72857d45-78d8-42a2-a10c-dbc2eee01400",
   "metadata": {},
   "outputs": [
    {
     "name": "stdout",
     "output_type": "stream",
     "text": [
      "[[1 2 3]\n",
      " [4 5 6]\n",
      " [7 8 9]]\n"
     ]
    }
   ],
   "source": [
    "# 2d array\n",
    "\n",
    "ar_2d = np.array([[1,2,3],\n",
    "                 [4,5,6],\n",
    "                 [7,8,9]])\n",
    "\n",
    "print(ar_2d)\n",
    "                 "
   ]
  },
  {
   "cell_type": "code",
   "execution_count": 7,
   "id": "8eb9d1e4-932a-4cdf-9c95-104b16aeb48c",
   "metadata": {},
   "outputs": [
    {
     "name": "stdout",
     "output_type": "stream",
     "text": [
      "[[ 2  4  6]\n",
      " [ 8 10 12]]\n"
     ]
    }
   ],
   "source": [
    "# Multi Dimensional aary\n",
    "# Matrix\n",
    "\n",
    "matrix = np.array([[2,4,6],\n",
    "                  [8,10,12]])\n",
    "\n",
    "print(matrix)"
   ]
  },
  {
   "cell_type": "code",
   "execution_count": 16,
   "id": "8925b3bb-e4e2-4f58-8fe5-957d4d5e20d4",
   "metadata": {},
   "outputs": [
    {
     "name": "stdout",
     "output_type": "stream",
     "text": [
      "array: [1 2 3 4 5 6]\n",
      "list in array:  [3 4 5 6 7 8 9]\n",
      "list:  [63, 64, 54, 64, 74, 48, 59]\n"
     ]
    }
   ],
   "source": [
    "arr = np.array([1,2,3,4,5,6])\n",
    "\n",
    "print(\"array:\" , arr)\n",
    "\n",
    "\n",
    "list = [3,4,5,6,7,8,9]\n",
    "\n",
    "ar_list = np.array(list)\n",
    "print(\"list in array: \", ar_list)\n",
    "\n",
    "\n",
    "list2 = [63,64,54,64,74,48,59]\n",
    "print(\"list: \", list2)"
   ]
  },
  {
   "cell_type": "code",
   "execution_count": 22,
   "id": "cbca8b77-506b-418d-b18b-d9b774c8264d",
   "metadata": {},
   "outputs": [
    {
     "name": "stdout",
     "output_type": "stream",
     "text": [
      "[0. 0. 0. 0.]\n",
      "(4,)\n"
     ]
    }
   ],
   "source": [
    "# with default values\n",
    "\n",
    "zeros_array = np.zeros(4)\n",
    "\n",
    "print(zeros_array)\n",
    "print(zeros_array.shape)   # for shape o/p is 4"
   ]
  },
  {
   "cell_type": "code",
   "execution_count": 24,
   "id": "33ff3426-4441-4a83-910d-9220876a806f",
   "metadata": {},
   "outputs": [
    {
     "name": "stdout",
     "output_type": "stream",
     "text": [
      "[[1. 1. 1.]\n",
      " [1. 1. 1.]]\n",
      "(2, 3)\n"
     ]
    }
   ],
   "source": [
    "# once(shape)\n",
    " # ones array and its shape\n",
    "one_array=np.ones((2,3))\n",
    "print(one_array)\n",
    "print(one_array.shape)"
   ]
  },
  {
   "cell_type": "code",
   "execution_count": 26,
   "id": "8516c34d-fe89-406b-ae09-fc092fd25f72",
   "metadata": {},
   "outputs": [
    {
     "name": "stdout",
     "output_type": "stream",
     "text": [
      "[[1. 1. 1. 1.]\n",
      " [1. 1. 1. 1.]\n",
      " [1. 1. 1. 1.]\n",
      " [1. 1. 1. 1.]]\n",
      "(4, 4)\n",
      "[[1. 1.]\n",
      " [1. 1.]\n",
      " [1. 1.]]\n",
      "(3, 2)\n"
     ]
    }
   ],
   "source": [
    "one_array=np.ones((4,4))  # ones array and its shape\n",
    "print(one_array)\n",
    "print(one_array.shape)\n",
    "\n",
    "\n",
    "one_array=np.ones((3,2))  # ones array and its shape\n",
    "print(one_array)\n",
    "print(one_array.shape)"
   ]
  },
  {
   "cell_type": "code",
   "execution_count": 27,
   "id": "8d345aff-25db-4765-b3ec-e80dc3e48aae",
   "metadata": {},
   "outputs": [
    {
     "name": "stdout",
     "output_type": "stream",
     "text": [
      "[[7 7]\n",
      " [7 7]]\n"
     ]
    }
   ],
   "source": [
    "# full(shape, value)\n",
    "\n",
    "filled_array = np.full((2,2),7)\n",
    "print(filled_array)"
   ]
  },
  {
   "cell_type": "code",
   "execution_count": 35,
   "id": "320806e6-5054-4d33-8386-0119b801e9ac",
   "metadata": {},
   "outputs": [
    {
     "name": "stdout",
     "output_type": "stream",
     "text": [
      "[[2 2 2 2]\n",
      " [2 2 2 2]\n",
      " [2 2 2 2]]\n",
      "shape of this array:  (3, 4)\n"
     ]
    }
   ],
   "source": [
    "full_array = np.full((3,4),2) # 2 is value for out put in array it can be change or replace any value and that is print\n",
    "\n",
    "print(full_array)\n",
    "\n",
    "print(\"shape of this array: \",full_array.shape)"
   ]
  },
  {
   "cell_type": "code",
   "execution_count": 53,
   "id": "47c44c9e-90ab-48ff-8c28-a8f3954e31db",
   "metadata": {},
   "outputs": [
    {
     "name": "stdout",
     "output_type": "stream",
     "text": [
      "[1 3 5 7 9]\n",
      "shape of this sequence array: (5,)\n"
     ]
    }
   ],
   "source": [
    "# creating sequences of numbers in numpy\n",
    "#arange()\n",
    "#arange(start , stop , step)\n",
    "\n",
    "seq_array = np.arange(1,10,2)\n",
    "print(seq_array)\n",
    "\n",
    "print(\"shape of this sequence array:\",seq_array.shape)"
   ]
  },
  {
   "cell_type": "code",
   "execution_count": 58,
   "id": "73b35cb7-acd3-4f0c-998a-2d52e13ff48c",
   "metadata": {},
   "outputs": [
    {
     "name": "stdout",
     "output_type": "stream",
     "text": [
      "[10 15 20 25 30 35 40 45 50 55 60 65 70 75 80 85 90 95]\n",
      "shape of this seq2 : (18,)\n"
     ]
    }
   ],
   "source": [
    "seq2_array = np.arange(10, 100, 5)\n",
    "print(seq2_array)\n",
    "print(\"shape of this seq2 :\", seq2_array.shape)"
   ]
  },
  {
   "cell_type": "code",
   "execution_count": 63,
   "id": "95e30170-1814-4940-b387-17b8e55d7d34",
   "metadata": {},
   "outputs": [
    {
     "name": "stdout",
     "output_type": "stream",
     "text": [
      "[[1. 0. 0.]\n",
      " [0. 1. 0.]\n",
      " [0. 0. 1.]]\n",
      "(3, 3)\n"
     ]
    }
   ],
   "source": [
    "# crating a identity matrix\n",
    "# its a sequre matrix\n",
    "#eye(size)\n",
    "\n",
    "id_matrix = np.eye(3)\n",
    "print(id_matrix)\n",
    "\n",
    "print(id_matrix.shape)"
   ]
  },
  {
   "cell_type": "code",
   "execution_count": 62,
   "id": "69ddc559-7659-45e4-b195-152874851aae",
   "metadata": {},
   "outputs": [
    {
     "name": "stdout",
     "output_type": "stream",
     "text": [
      "[[1. 0. 0. 0. 0.]\n",
      " [0. 1. 0. 0. 0.]\n",
      " [0. 0. 1. 0. 0.]\n",
      " [0. 0. 0. 1. 0.]\n",
      " [0. 0. 0. 0. 1.]]\n",
      "(5, 5)\n"
     ]
    }
   ],
   "source": [
    "id2_mat = np.eye(5)\n",
    "print(id2_mat)\n",
    "\n",
    "print(id2_mat.shape)"
   ]
  },
  {
   "cell_type": "markdown",
   "id": "02c1f2f2-ccc6-40ec-99c4-17eb37ffce80",
   "metadata": {},
   "source": [
    "# Chapter-2 Array Properties and Operations"
   ]
  },
  {
   "cell_type": "code",
   "execution_count": 82,
   "id": "96e5ddde-42dc-49ee-9ada-e26295c1065f",
   "metadata": {},
   "outputs": [
    {
     "name": "stdout",
     "output_type": "stream",
     "text": [
      "(2, 3)\n",
      "2\n"
     ]
    }
   ],
   "source": [
    "# array --> properties --> oprations\n",
    "# Numpy properties\n",
    "# find --> shape, size, type\n",
    "# attribute -- shape\n",
    "\n",
    "arr_2d = np.array([[1,2,3],\n",
    "                   [4,5,6]])\n",
    "print(arr_2d.shape)\n",
    "\n",
    "print(arr_2d.ndim)\n",
    "\n"
   ]
  },
  {
   "cell_type": "code",
   "execution_count": 80,
   "id": "2e8c4e3c-ac84-473e-a8ec-ec279942dc11",
   "metadata": {},
   "outputs": [
    {
     "name": "stdout",
     "output_type": "stream",
     "text": [
      "6\n",
      "(2, 3)\n",
      "3\n"
     ]
    }
   ],
   "source": [
    "# total number of element in array size\n",
    "\n",
    "arr = np.array([[10,20,30],[40,50,60]])\n",
    "print(arr.size)\n",
    "\n",
    "print(arr.shape)\n",
    "\n",
    "print(arr_3d.ndim)"
   ]
  },
  {
   "cell_type": "code",
   "execution_count": 87,
   "id": "b34cfcfb-1fc7-40f2-bf60-c01d270e5cd2",
   "metadata": {},
   "outputs": [
    {
     "name": "stdout",
     "output_type": "stream",
     "text": [
      "1\n",
      "2\n",
      "3\n"
     ]
    }
   ],
   "source": [
    "#ndim  >> number of dimensions\n",
    "\n",
    "#arr.ndim\n",
    "\n",
    "arr_1d = np.array([1,2,3])\n",
    "arr_2d = np.array([[1,2,3], [4,5,6]])\n",
    "arr_3d = np.array([[[1,2],[3,4],[5,6],[7,8]]])\n",
    "\n",
    "print(arr_1d.ndim)\n",
    "print(arr_2d.ndim)\n",
    "print(arr_3d.ndim)\n"
   ]
  },
  {
   "cell_type": "code",
   "execution_count": 91,
   "id": "8da5c5dd-8fc7-4e43-b356-d982a9731fee",
   "metadata": {},
   "outputs": [
    {
     "name": "stdout",
     "output_type": "stream",
     "text": [
      "int64\n"
     ]
    }
   ],
   "source": [
    "arr = np.array([10,20,30,40])\n",
    "\n",
    "print(arr.dtype)"
   ]
  },
  {
   "cell_type": "code",
   "execution_count": 98,
   "id": "9eecbbd0-cd98-46a1-8c4a-909af111d625",
   "metadata": {},
   "outputs": [
    {
     "name": "stdout",
     "output_type": "stream",
     "text": [
      "float64\n",
      "[1 3 6]\n",
      "int64\n",
      "(3,)\n"
     ]
    }
   ],
   "source": [
    "# astype\n",
    "\n",
    "arr = np.array([1.2, 3.5, 6.8])\n",
    "print(arr.dtype)\n",
    "\n",
    "int_arr =  arr.astype(int)\n",
    "print(int_arr)\n",
    "\n",
    "print(int_arr.dtype)\n",
    "print(int_arr.shape)"
   ]
  },
  {
   "cell_type": "code",
   "execution_count": 103,
   "id": "5ca85566-d35e-431b-a72f-ffddce792ef8",
   "metadata": {},
   "outputs": [
    {
     "name": "stdout",
     "output_type": "stream",
     "text": [
      "[15 25 35]\n",
      "[ 50 100 150]\n",
      "[  100000  3200000 24300000]\n"
     ]
    }
   ],
   "source": [
    "# maths\n",
    "\n",
    "\n",
    "arr = np.array([10,20,30])\n",
    "\n",
    "print(arr + 5)\n",
    "print(arr * 5)\n",
    "print(arr ** 5)"
   ]
  },
  {
   "cell_type": "code",
   "execution_count": 109,
   "id": "ec15fb53-59e1-4058-af27-ea269996621f",
   "metadata": {},
   "outputs": [
    {
     "name": "stdout",
     "output_type": "stream",
     "text": [
      "210\n",
      "35.0\n",
      "10\n",
      "60\n",
      "17.07825127659933\n",
      "291.6666666666667\n"
     ]
    }
   ],
   "source": [
    "# aggregatipn function (means Summarise data)\n",
    "   \n",
    "arr = np.array([10,20,30,40,50,60])\n",
    "\n",
    "print(np.sum(arr))\n",
    "print(np.mean(arr))\n",
    "print(np.min(arr))\n",
    "print(np.max(arr))\n",
    "print(np.std(arr))\n",
    "print(np.var(arr))"
   ]
  },
  {
   "cell_type": "code",
   "execution_count": 111,
   "id": "c7c1d75e-1a8e-4234-907f-24b97c08de4e",
   "metadata": {},
   "outputs": [],
   "source": [
    "#ndexing and slicing\n",
    "\n",
    "# indexing --> with the help of idexing handle specific element(single element)\n",
    "\n",
    "# slicing --> multiple element handle\n",
    "\n",
    "# Fancy indeexing\n",
    "\n",
    "# bolean masking"
   ]
  },
  {
   "cell_type": "code",
   "execution_count": 117,
   "id": "a192e9c5-85e0-407e-93c5-6f96adf8d31a",
   "metadata": {},
   "outputs": [
    {
     "name": "stdout",
     "output_type": "stream",
     "text": [
      "10\n",
      "30\n",
      "50\n"
     ]
    }
   ],
   "source": [
    "\"\"\"\n",
    "array[index] # 1d array\n",
    "array[row, column] # 2d\n",
    "\"\"\"\n",
    "#arr = ([1,3,4,5,6])\n",
    "arr = np.array([10,20,30,40,50])\n",
    "print(arr[0]) # first element , 0 based indexing , -1 last element\n",
    "print(arr[2])  \n",
    "print(arr[-1]) # last element"
   ]
  },
  {
   "cell_type": "code",
   "execution_count": 128,
   "id": "a2a6fd3e-fdf3-43c9-a430-31d8d78fc993",
   "metadata": {},
   "outputs": [
    {
     "name": "stdout",
     "output_type": "stream",
     "text": [
      "[20 30 40 50]\n",
      "[10 20 30 40]\n",
      "[10 30 50]\n",
      "[60 50 40 30 20 10]\n"
     ]
    }
   ],
   "source": [
    "#slicing\n",
    "\n",
    "\"\"\"\n",
    "array[start:stop:step]\n",
    "\n",
    "use indexing number for slicing\n",
    "\n",
    "start\n",
    "stop  : if stop indexing 3 so provide 4 value (n-1)\n",
    "step\n",
    "\n",
    "\n",
    "arr[start:end]   # start to end-1\n",
    "\n",
    "negative step -1 recerse\n",
    "\"\"\"\n",
    "\n",
    "arr = np.array([10,20,30,40,50,60])\n",
    "\n",
    "print(arr[1:5]) # index 1  to 4  # stop (n-1)\n",
    "print(arr[:4]) # INDEX 0 TO 3\n",
    "print(arr[::2]) # every secound element\n",
    "\n",
    "print(arr[::-1]) # reverse elememnt\n",
    "\n"
   ]
  },
  {
   "cell_type": "code",
   "execution_count": 130,
   "id": "5781acab-49ba-41b6-97ca-697b0bac1fb5",
   "metadata": {},
   "outputs": [
    {
     "name": "stdout",
     "output_type": "stream",
     "text": [
      "[10 30 50]\n"
     ]
    }
   ],
   "source": [
    "# fancy indexing  -- selecting multiple element at once\n",
    "arr = np.array([10,20,30,40,50,60])\n",
    "\n",
    "print(arr[[0,2,4]])\n",
    "\n"
   ]
  },
  {
   "cell_type": "code",
   "execution_count": 139,
   "id": "7ab5125f-9b44-43cd-891b-5ee4d683313d",
   "metadata": {},
   "outputs": [
    {
     "name": "stdout",
     "output_type": "stream",
     "text": [
      "[50 60]\n"
     ]
    }
   ],
   "source": [
    "# boolen masking --> conditon base > True / False\n",
    "\n",
    "arr = np.array([10,20,30,40,50,60])\n",
    "\n",
    "print(arr[arr > 40])\n",
    "\n"
   ]
  },
  {
   "cell_type": "code",
   "execution_count": 151,
   "id": "834dfb30-341e-48f3-9005-e65bb8338ad1",
   "metadata": {},
   "outputs": [
    {
     "name": "stdout",
     "output_type": "stream",
     "text": [
      "[[1 2]\n",
      " [3 4]\n",
      " [5 6]]\n"
     ]
    }
   ],
   "source": [
    "# Reshiping and manipulating arrays --> means change dimension without  data change\n",
    "\n",
    "\"\"\"\n",
    "reshape (row, column) specify new shape\n",
    "\n",
    "when reshape if dimension match\n",
    "\"\"\"\n",
    "# reshape not create copy its affect orignal array view\n",
    "\n",
    "arr = np.array([1,2,3,4,5,6])\n",
    "\n",
    "reshaped_Arr = arr.reshape(3,2)\n",
    "print(reshaped_Arr)\n"
   ]
  },
  {
   "cell_type": "code",
   "execution_count": 163,
   "id": "9bc7cb81-dd01-4d2d-8a13-9222576d6b59",
   "metadata": {},
   "outputs": [
    {
     "name": "stdout",
     "output_type": "stream",
     "text": [
      "[1 2 3 4 5 6]\n",
      "[1 2 3 4 5 6]\n"
     ]
    }
   ],
   "source": [
    "# flattening array --> rawll(), flatten()\n",
    "\n",
    "# Multi Demination array conver to 1D\n",
    "\n",
    "\"\"\"\n",
    ".revel()    --> view\n",
    ".flatten()  --> copy\n",
    "\"\"\"\n",
    "arr_2d = np.array([[1,2,3],[4,5,6]])\n",
    "\n",
    "print(arr_2d.ravel())\n",
    "print(arr_2d.flatten())\n",
    "\n"
   ]
  },
  {
   "cell_type": "code",
   "execution_count": 160,
   "id": "3a6b7a5f-7429-4b2f-b836-eba4bb3a499d",
   "metadata": {},
   "outputs": [
    {
     "name": "stdout",
     "output_type": "stream",
     "text": [
      "[1 2 3 4 5 6]\n",
      "[1 2 3 4 5 6]\n"
     ]
    }
   ],
   "source": [
    "arr_2d = np.array([[1,2,3],[4,5,6]])\n",
    "\n",
    "print(arr_2d.ravel())\n",
    "print(arr_2d.flatten())\n"
   ]
  },
  {
   "cell_type": "markdown",
   "id": "d15f6e93-9320-443e-919e-20755e5b1b3e",
   "metadata": {},
   "source": [
    "# chapter 4 :Reshaping and manipulating arrays\n",
    "\n",
    "1. add\n",
    "2. remove\n",
    "3. split\n",
    "4. stack"
   ]
  },
  {
   "cell_type": "code",
   "execution_count": 170,
   "id": "1635889a-6832-46c2-829c-bd1498c2cb53",
   "metadata": {},
   "outputs": [
    {
     "name": "stdout",
     "output_type": "stream",
     "text": [
      "[10 20 30 40 50 60]\n",
      "[ 10  20 100  30  40  50  60]\n"
     ]
    }
   ],
   "source": [
    "# np.inser(array, index, value, axis=None)  --> pass the indexing number\n",
    "# array - orignal array\n",
    "# index - \n",
    "# value\n",
    "# axis\n",
    "# axis = 0, means row wise data insert\n",
    "# axis =1 , means column wise data insert\n",
    "\n",
    "\n",
    "arr = np.array([10,20,30,40, 50, 60])\n",
    "print(arr)\n",
    "new_arr = np.insert(arr, 2, 100 , axis=0)\n",
    "\n",
    "print(new_arr)"
   ]
  },
  {
   "cell_type": "code",
   "execution_count": 180,
   "id": "8f592bb3-fdf3-490f-a089-230fde21d70f",
   "metadata": {},
   "outputs": [
    {
     "name": "stdout",
     "output_type": "stream",
     "text": [
      "2d [[1 2]\n",
      " [3 4]]\n",
      "new \n",
      " [[1 2]\n",
      " [5 6]\n",
      " [3 4]]\n"
     ]
    }
   ],
   "source": [
    "arr_2d = np.array([[1,2],[3,4]])\n",
    "print(\"2d\",arr_2d)\n",
    "# insert new row at index 1\n",
    "\n",
    "new_arr_2d = np.insert(arr_2d, 1, [5,6], axis=0)\n",
    "print(\"new \\n\",new_arr_2d)"
   ]
  },
  {
   "cell_type": "code",
   "execution_count": 183,
   "id": "fb0ddbe6-2597-4b0f-be06-28490578f0d1",
   "metadata": {},
   "outputs": [
    {
     "name": "stdout",
     "output_type": "stream",
     "text": [
      "[10 20 30 40 50 60]\n"
     ]
    }
   ],
   "source": [
    "# append\n",
    "arr = np.array([10,20,30])\n",
    "new_arr = np.append(arr, [40,50,60])\n",
    "print(new_arr)\n"
   ]
  },
  {
   "cell_type": "code",
   "execution_count": 187,
   "id": "e65b13fb-df51-4c5b-8665-4191f8f1dbfe",
   "metadata": {},
   "outputs": [
    {
     "name": "stdout",
     "output_type": "stream",
     "text": [
      "[1 2 3 4 5 6]\n"
     ]
    }
   ],
   "source": [
    "\"\"\"\n",
    "np.concatenate((array1, array2), axis=0)\n",
    "\n",
    "axis = 0 --> vertical stacking\n",
    "\n",
    "axis = 1 --> horizontal stacking\n",
    "\n",
    "\"\"\"\n",
    "\n",
    "arr1 = np.array([1,2,3])\n",
    "arr2 = np.array([4,5,6])\n",
    "\n",
    "new_arr = np.concatenate((arr1, arr2))\n",
    "\n",
    "print(new_arr)"
   ]
  },
  {
   "cell_type": "code",
   "execution_count": 189,
   "id": "7b136461-6cd0-482e-aae2-e01734041faf",
   "metadata": {},
   "outputs": [
    {
     "name": "stdout",
     "output_type": "stream",
     "text": [
      "[10 20 30 40 50 60]\n",
      "[20 30 40 50 60]\n"
     ]
    }
   ],
   "source": [
    "# Removing Element Array\n",
    "\"\"\"\n",
    "np.delete(array, index, axis = none)\n",
    "flattern array \n",
    "\n",
    "\"\"\"\n",
    "\n",
    "arr = np.array([10,20,30,40,50,60])\n",
    "print(arr)\n",
    "new_arr = np.delete(arr, 0)\n",
    "\n",
    "print(new_arr)"
   ]
  },
  {
   "cell_type": "code",
   "execution_count": 198,
   "id": "1399bd09-77f6-43a5-b8ad-b1594d067731",
   "metadata": {},
   "outputs": [
    {
     "name": "stdout",
     "output_type": "stream",
     "text": [
      "[[4 5 7]]\n"
     ]
    }
   ],
   "source": [
    "\n",
    "arr_2d = np.array([[1,2,3],[4,5,7]])\n",
    "\n",
    "new_arr_2d = np.delete(arr_2d, 0, axis=0)\n",
    "\n",
    "print(new_arr_2d)"
   ]
  },
  {
   "cell_type": "code",
   "execution_count": 199,
   "id": "d030acf0-114e-49d0-93c2-0aedfa51587d",
   "metadata": {},
   "outputs": [
    {
     "name": "stdout",
     "output_type": "stream",
     "text": [
      "[[1 2 3]\n",
      " [4 5 6]]\n",
      "[1 2 3 4 5 6]\n"
     ]
    }
   ],
   "source": [
    "# Stacking \n",
    "\n",
    "\"\"\"\n",
    "vertically\n",
    "horizontally\n",
    "\n",
    "vstack() --> rwo wise\n",
    "hstack()--> column wise\n",
    "\"\"\"\n",
    "\n",
    "\n",
    "arr1 = np.array([1,2,3])\n",
    "\n",
    "arr2 = np.array([4,5,6])\n",
    "\n",
    "print(np.vstack((arr1, arr2))) # vertical stack\n",
    "\n",
    "print(np.hstack((arr1, arr2))) # horizontal stack "
   ]
  },
  {
   "cell_type": "code",
   "execution_count": 203,
   "id": "90f75dc7-7dd1-432b-92c2-bc4f7935ad61",
   "metadata": {},
   "outputs": [
    {
     "name": "stdout",
     "output_type": "stream",
     "text": [
      "[array([10, 20, 30]), array([40, 50, 60])]\n"
     ]
    }
   ],
   "source": [
    "# spliting\n",
    "\n",
    "\"\"\"\n",
    "np.split()  # for equal part split\n",
    "\n",
    "np.hsplit()\n",
    "np.vsplit()\n",
    "\"\"\"\n",
    "\n",
    "arr = np.array([10,20,30,40,50,60])\n",
    "print(np.split(arr,2))\n",
    "\n"
   ]
  },
  {
   "cell_type": "markdown",
   "id": "4153a487-fe54-4d53-9ee0-e8f46d32cf4b",
   "metadata": {},
   "source": [
    "# Chapter 5\n",
    "\n",
    "# Brodcasting & Vectorization"
   ]
  },
  {
   "cell_type": "code",
   "execution_count": 10,
   "id": "3ddd4e13-18a6-4787-b8d6-37d829f85901",
   "metadata": {},
   "outputs": [
    {
     "name": "stdout",
     "output_type": "stream",
     "text": [
      "[90.0, 180.0, 270.0]\n"
     ]
    }
   ],
   "source": [
    "# problem with loops Solution is Broadcasting\n",
    "\n",
    "\n",
    "prices = [100,200,300]\n",
    "\n",
    "discount = 10 #  10% discount\n",
    "\n",
    "final_prices =[]\n",
    "\n",
    "for price in prices:\n",
    "    final_price = price - (price * discount/100)\n",
    "    final_prices.append(final_price)\n",
    "    \n",
    "print(final_prices)"
   ]
  },
  {
   "cell_type": "code",
   "execution_count": 17,
   "id": "391f899f-0471-4414-ad62-b4b144e910e9",
   "metadata": {},
   "outputs": [
    {
     "name": "stdout",
     "output_type": "stream",
     "text": [
      "[ 90. 180. 270.]\n"
     ]
    }
   ],
   "source": [
    "# Broadcating\n",
    "prices = np.array([100,200,300])\n",
    "\n",
    "discount =  10     # scaler single value\n",
    "final_prices = prices - (prices * discount/100)\n",
    "\n",
    "print(final_prices)\n",
    "\n",
    "\n"
   ]
  },
  {
   "cell_type": "code",
   "execution_count": 16,
   "id": "f6613680-76c7-4f06-8610-7b976311cdda",
   "metadata": {},
   "outputs": [
    {
     "name": "stdout",
     "output_type": "stream",
     "text": [
      "[ 90. 180. 270.]\n"
     ]
    }
   ],
   "source": [
    "import numpy as np\n",
    "\n",
    "prices = np.array([100, 200, 300])\n",
    "discount = 10  # scalar value (10%)\n",
    "\n",
    "final_prices = prices - (prices * discount / 100)\n",
    "\n",
    "print(final_prices)\n"
   ]
  },
  {
   "cell_type": "markdown",
   "id": "c9703032-ee8e-4c3a-a44f-d7784935197a",
   "metadata": {},
   "source": [
    "# How Numpy Handle arrays of differnt shapes\n",
    "\n",
    "1. mateching dimenstion\n",
    "\n",
    "2. expanding single element\n",
    "\n",
    "3. incompatible shapes\n",
    "\n",
    "   "
   ]
  },
  {
   "cell_type": "code",
   "execution_count": 21,
   "id": "98ccae20-13b7-4a52-85c7-00ab9ed27ac2",
   "metadata": {},
   "outputs": [
    {
     "name": "stdout",
     "output_type": "stream",
     "text": [
      "[200 400 600]\n"
     ]
    }
   ],
   "source": [
    "arr = np.array([100,200,300])\n",
    "result = arr * 2\n",
    "\n",
    "print(result)"
   ]
  },
  {
   "cell_type": "code",
   "execution_count": 26,
   "id": "3d4ef4c8-7713-435a-a10c-7c5039b036b8",
   "metadata": {},
   "outputs": [
    {
     "name": "stdout",
     "output_type": "stream",
     "text": [
      "[[0 0 0]\n",
      " [0 0 0]]\n"
     ]
    }
   ],
   "source": [
    "matrix = np.array([[1,2,3],[4,5,6]]) \n",
    "\n",
    "vector = np.array([10,20,30])\n",
    "\n",
    "result = matrix  vector\n",
    "\n",
    "print(result)"
   ]
  },
  {
   "cell_type": "code",
   "execution_count": 29,
   "id": "c01ed62b-6a83-4d42-950b-9d3c15f38244",
   "metadata": {},
   "outputs": [
    {
     "ename": "SyntaxError",
     "evalue": "'(' was never closed (3480931744.py, line 3)",
     "output_type": "error",
     "traceback": [
      "\u001b[1;36m  Cell \u001b[1;32mIn[29], line 3\u001b[1;36m\u001b[0m\n\u001b[1;33m    arr2 = np.array([1,2]\u001b[0m\n\u001b[1;37m                   ^\u001b[0m\n\u001b[1;31mSyntaxError\u001b[0m\u001b[1;31m:\u001b[0m '(' was never closed\n"
     ]
    }
   ],
   "source": [
    "arr1 = np.array([[1,2,3],[4,5,6]])\n",
    "\n",
    "arr2 = np.array([1,2]\n",
    "result = arr1 + arr2\n",
    "\n",
    "print(result)\n"
   ]
  },
  {
   "cell_type": "code",
   "execution_count": 30,
   "id": "857ea42e-a04f-480e-9497-6780f3a32a15",
   "metadata": {},
   "outputs": [
    {
     "name": "stdout",
     "output_type": "stream",
     "text": [
      "[5, 7, 9]\n"
     ]
    }
   ],
   "source": [
    "#vectorization\n",
    "list1 = [1,2,3]\n",
    "\n",
    "list2 = [4,5,6]\n",
    "\n",
    "result = [ x+y for x,y in zip (list1, list2)]\n",
    "\n",
    "print(result)\n"
   ]
  },
  {
   "cell_type": "code",
   "execution_count": 34,
   "id": "5b442732-0342-4abc-9a81-ed363404b029",
   "metadata": {},
   "outputs": [
    {
     "name": "stdout",
     "output_type": "stream",
     "text": [
      "[5 7 9]\n"
     ]
    }
   ],
   "source": [
    "#vectorization\n",
    "\n",
    "arr1 = np.array([1,2,3])\n",
    "arr2 = np.array([4,5,6])\n",
    "\n",
    "result = arr1 + arr2\n",
    "\n",
    "print(result)"
   ]
  },
  {
   "cell_type": "code",
   "execution_count": 35,
   "id": "4a3c77d6-c2dc-403d-bdbd-f2aea39b4766",
   "metadata": {},
   "outputs": [
    {
     "name": "stdout",
     "output_type": "stream",
     "text": [
      "[30 60 90]\n"
     ]
    }
   ],
   "source": [
    "arr = np.array([10,20,30])\n",
    "\n",
    "multiplied = arr * 3\n",
    "\n",
    "print(multiplied)"
   ]
  },
  {
   "cell_type": "code",
   "execution_count": 37,
   "id": "abdef142-724d-4c18-b9d4-e32a1d504464",
   "metadata": {},
   "outputs": [],
   "source": [
    "# Summary on BroadCasting and Vectorization\n",
    "\n",
    "# Broadcating --> expand small array to large array for matches, fater than loops\n",
    "# use convert 1D to 2D\n",
    "\n",
    "\n",
    "# vectorization --> Entire array --applied oprations, 100x faster than loops\n",
    "# use Matrix oprations\n",
    "\n",
    "\n"
   ]
  },
  {
   "cell_type": "markdown",
   "id": "bbcc5446-6aa1-41b8-979a-23074f4f4f58",
   "metadata": {},
   "source": [
    "# Chapter: 6\n",
    "# Handling Missing & Special Values\n",
    "\n"
   ]
  },
  {
   "cell_type": "code",
   "execution_count": 38,
   "id": "bcb38bdf-ff07-49a2-85fa-b23034580b8e",
   "metadata": {},
   "outputs": [],
   "source": [
    "# why learn: suppose  you fill form\n",
    "\n",
    "# Builtin function\n",
    "# np.isnan()  --> detect  missing values\n",
    "# np.nan_to_nan()\n",
    "\n",
    "# np.isinf() -->\n",
    "\n",
    "# Note --> nan = Not a number\n",
    "\n"
   ]
  },
  {
   "cell_type": "code",
   "execution_count": 45,
   "id": "71416db8-b0b7-4624-b7ae-35837bb45b61",
   "metadata": {},
   "outputs": [
    {
     "name": "stdout",
     "output_type": "stream",
     "text": [
      "[False False  True False  True False]\n",
      "False\n"
     ]
    }
   ],
   "source": [
    "# np.isnan(array)\n",
    "\n",
    "arr = np.array([1,2, np.nan, 4, np.nan, 6])\n",
    "\n",
    "print(np.isnan(arr))\n",
    "\n",
    "print(np.nan == np.nan)"
   ]
  },
  {
   "cell_type": "code",
   "execution_count": 50,
   "id": "f21e5146-5d2f-437e-84c5-e3bfb9f43f27",
   "metadata": {},
   "outputs": [
    {
     "name": "stdout",
     "output_type": "stream",
     "text": [
      "[  1.   2. 100.   4. 100.   6.]\n"
     ]
    }
   ],
   "source": [
    "# nan to num\n",
    "# np.nan_to_num(array , nan=value)     Note: default = 0\n",
    "\n",
    "arr = np.array([1,2, np.nan, 4, np.nan, 6])\n",
    "\n",
    "cleaned_arr = np.nan_to_num(arr, nan=100)\n",
    "print(cleaned_arr)\n",
    "\n"
   ]
  },
  {
   "cell_type": "code",
   "execution_count": 52,
   "id": "7426aab8-144d-42f9-8a16-378792e1620f",
   "metadata": {},
   "outputs": [
    {
     "name": "stdout",
     "output_type": "stream",
     "text": [
      "[False False  True False  True False]\n",
      "[    1.     2.   100.     4. -1000.     6.]\n"
     ]
    }
   ],
   "source": [
    "# np.isinf()\n",
    "\n",
    "arr =np.array([1,2,np.inf,4, -np.inf, 6])\n",
    "\n",
    "print(np.isinf(arr))\n",
    "\n",
    "\n",
    "# replaced\n",
    "\n",
    "cleaned_arr = np.nan_to_num(arr, posinf=100, neginf=-1000)\n",
    "\n",
    "print(cleaned_arr)"
   ]
  },
  {
   "cell_type": "code",
   "execution_count": null,
   "id": "8b0b7513-b7ea-4b4a-8a1f-2c16fb6e5d30",
   "metadata": {},
   "outputs": [],
   "source": []
  }
 ],
 "metadata": {
  "kernelspec": {
   "display_name": "Python 3 (ipykernel)",
   "language": "python",
   "name": "python3"
  },
  "language_info": {
   "codemirror_mode": {
    "name": "ipython",
    "version": 3
   },
   "file_extension": ".py",
   "mimetype": "text/x-python",
   "name": "python",
   "nbconvert_exporter": "python",
   "pygments_lexer": "ipython3",
   "version": "3.13.5"
  }
 },
 "nbformat": 4,
 "nbformat_minor": 5
}
